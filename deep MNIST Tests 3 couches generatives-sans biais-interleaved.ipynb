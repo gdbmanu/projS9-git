{
 "cells": [
  {
   "cell_type": "code",
   "execution_count": 1,
   "metadata": {},
   "outputs": [
    {
     "name": "stdout",
     "output_type": "stream",
     "text": [
      "Populating the interactive namespace from numpy and matplotlib\n"
     ]
    }
   ],
   "source": [
    "import tensorflow as tf\n",
    "import matplotlib.pyplot as plt\n",
    "import numpy as np\n",
    "import sys\n",
    "%pylab inline"
   ]
  },
  {
   "cell_type": "code",
   "execution_count": 2,
   "metadata": {},
   "outputs": [
    {
     "name": "stdout",
     "output_type": "stream",
     "text": [
      "Extracting MNIST_data/train-images-idx3-ubyte.gz\n",
      "Extracting MNIST_data/train-labels-idx1-ubyte.gz\n",
      "Extracting MNIST_data/t10k-images-idx3-ubyte.gz\n",
      "Extracting MNIST_data/t10k-labels-idx1-ubyte.gz\n"
     ]
    }
   ],
   "source": [
    "from tensorflow.examples.tutorials.mnist import input_data\n",
    "mnist = input_data.read_data_sets(\"MNIST_data/\", one_hot=True)"
   ]
  },
  {
   "cell_type": "code",
   "execution_count": 3,
   "metadata": {},
   "outputs": [],
   "source": [
    "import os"
   ]
  },
  {
   "cell_type": "markdown",
   "metadata": {},
   "source": [
    "## Multilayer CNN"
   ]
  },
  {
   "cell_type": "markdown",
   "metadata": {},
   "source": [
    "Couche de poids paramétrable"
   ]
  },
  {
   "cell_type": "code",
   "execution_count": 4,
   "metadata": {},
   "outputs": [],
   "source": [
    "def weight_variable(shape, stddev = 0.1, name = \"dummy\"):\n",
    "    #initial = tf.truncated_normal(shape, stddev=0.1)\n",
    "    initial = tf.random_normal(shape, stddev)\n",
    "    #initial = tf.zeros(shape)\n",
    "    return tf.Variable(initial, name = name)"
   ]
  },
  {
   "cell_type": "markdown",
   "metadata": {},
   "source": [
    "convertisseur image 32 x 32"
   ]
  },
  {
   "cell_type": "code",
   "execution_count": 5,
   "metadata": {},
   "outputs": [],
   "source": [
    "def mnist_reshape_32(x_batch):\n",
    "    if len(x_batch.shape) > 1 :\n",
    "        m, _ = x_batch.shape\n",
    "        batch32 = np.zeros((m, 1024))\n",
    "        for i, x in enumerate(x_batch):\n",
    "            assert x.shape == (28 * 28,)\n",
    "            image = x.reshape(28, 28)\n",
    "            image = np.append(np.zeros((2, 28)), image, axis = 0)\n",
    "            image = np.append(image, np.zeros((2, 28)), axis = 0)\n",
    "            image = np.append(np.zeros((32, 2)), image, axis = 1)\n",
    "            image = np.append(image, np.zeros((32, 2)), axis = 1)\n",
    "            batch32[i,:] = image.reshape((32 * 32,))\n",
    "    else:\n",
    "        m = x_batch.shape\n",
    "        batch32 = np.zeros((1024,))\n",
    "        assert x_batch.shape == (28 * 28,)\n",
    "        image = x_batch.reshape(28, 28)\n",
    "        image = np.append(np.zeros((2, 28)), image, axis = 0)\n",
    "        image = np.append(image, np.zeros((2, 28)), axis = 0)\n",
    "        image = np.append(np.zeros((32, 2)), image, axis = 1)\n",
    "        image = np.append(image, np.zeros((32, 2)), axis = 1)\n",
    "        batch32 = image.reshape((1,32 * 32))\n",
    "    return batch32 #.tolist()"
   ]
  },
  {
   "cell_type": "markdown",
   "metadata": {},
   "source": [
    "## Prediction graph"
   ]
  },
  {
   "cell_type": "markdown",
   "metadata": {},
   "source": [
    "Construction couche 1 : 32 x 32 --> 16 x 16"
   ]
  },
  {
   "cell_type": "code",
   "execution_count": 6,
   "metadata": {},
   "outputs": [],
   "source": [
    "DEPTH1 = 8\n",
    "WIDTH1 = 4\n",
    "OUT1 = 32 / WIDTH1\n",
    "\n",
    "DEPTH2 = 32\n",
    "WIDTH2 = 4\n",
    "OUT2 = 32 / WIDTH1 / WIDTH2\n",
    "\n",
    "DEPTH3 = 128\n",
    "WIDTH3 = 2\n",
    "OUT3 = 32 / WIDTH1 / WIDTH2 / WIDTH3\n",
    "\n",
    "\n",
    "#DEPTH4 = 512\n",
    "\n",
    "#DEPTH1 = 8\n",
    "#DEPTH2 = 16\n",
    "#DEPTH3 = 32\n",
    "#DEPTH4 = 64\n",
    "\n",
    "STD = 1.\n",
    "\n",
    "BATCH_SIZE = 50\n"
   ]
  },
  {
   "cell_type": "markdown",
   "metadata": {},
   "source": [
    "TensorFlow session"
   ]
  },
  {
   "cell_type": "markdown",
   "metadata": {},
   "source": [
    "Data placeholders\n",
    "\n",
    "(les données sont empilées selon dimension 0)"
   ]
  },
  {
   "cell_type": "code",
   "execution_count": 7,
   "metadata": {},
   "outputs": [],
   "source": [
    "sess = tf.InteractiveSession()"
   ]
  },
  {
   "cell_type": "markdown",
   "metadata": {},
   "source": [
    "Data placeholders\n",
    "\n",
    "(les données sont empilées selon dimension 0)"
   ]
  },
  {
   "cell_type": "code",
   "execution_count": 8,
   "metadata": {},
   "outputs": [],
   "source": [
    "x = tf.placeholder(tf.float32, shape=[None, 1024])\n",
    "y_ = tf.placeholder(tf.float32, shape=[None, 10])\n",
    "training_step = tf.placeholder(tf.float32, shape=[4])"
   ]
  },
  {
   "cell_type": "code",
   "execution_count": 9,
   "metadata": {},
   "outputs": [],
   "source": [
    "# Paramètres\n",
    "W_conv1 = weight_variable([WIDTH1, WIDTH1, 1, DEPTH1], stddev = STD / (WIDTH1 * WIDTH1), name = \"W_conv1\")\n",
    "# Input 2D reshape\n",
    "x_image = tf.reshape(x, [-1, 32, 32, 1])\n",
    "# Graph construction\n",
    "h_conv1 = tf.nn.conv2d(x_image, W_conv1, strides=[1, WIDTH1, WIDTH1, 1], padding='VALID') \n",
    "#z_conv1 = tf.nn.relu(h_conv1)\n",
    "z_conv1 = tf.nn.softmax(h_conv1)\n",
    "\n",
    "W_conv2 = weight_variable([WIDTH2, WIDTH2, DEPTH1, DEPTH2], stddev = STD / (WIDTH2 * WIDTH2 * DEPTH1), name = \"W_conv2\")\n",
    "h_conv2 = tf.nn.conv2d(z_conv1, W_conv2, strides=[1, WIDTH2, WIDTH2, 1], padding='VALID') \n",
    "z_conv2 = tf.nn.softmax(h_conv2)\n",
    "\n",
    "W_conv3 = weight_variable([WIDTH3, WIDTH3, DEPTH2, DEPTH3], stddev = STD / (WIDTH3 * WIDTH3 * DEPTH2), name = \"W_conv3\")\n",
    "h_conv3 = tf.nn.conv2d(z_conv2, W_conv3, strides=[1, WIDTH3, WIDTH3, 1], padding='VALID') \n",
    "z_conv3 = tf.nn.softmax(h_conv3)\n"
   ]
  },
  {
   "cell_type": "markdown",
   "metadata": {},
   "source": [
    "### Generative graph\n",
    "  - incremental learning\n",
    "  - ladder structure"
   ]
  },
  {
   "cell_type": "markdown",
   "metadata": {},
   "source": [
    "### Readout graph"
   ]
  },
  {
   "cell_type": "code",
   "execution_count": 10,
   "metadata": {},
   "outputs": [],
   "source": [
    "z_flat1 = tf.reshape(z_conv1, [-1, OUT1 * OUT1 * DEPTH1])\n",
    "z_flat2 = tf.reshape(z_conv2, [-1, OUT2 * OUT2 * DEPTH2])\n",
    "z_flat3 = tf.reshape(z_conv3, [-1, OUT3 * OUT3 * DEPTH3])\n",
    "\n",
    "W_out1 = weight_variable([OUT1 * OUT1 * DEPTH1, 10], stddev = STD / (OUT1 * OUT1 * DEPTH1), name = \"W_out1\")\n",
    "W_out2 = weight_variable([OUT2 * OUT2 * DEPTH2, 10], stddev = STD / (OUT2 * OUT2 * DEPTH2), name = \"W_out2\")\n",
    "W_out3 = weight_variable([OUT3 * OUT3 * DEPTH3, 10], stddev = STD / (OUT3 * OUT3 * DEPTH3), name = \"W_out3\")\n",
    "\n",
    "\n",
    "y_cnn =   tf.scalar_mul(training_step[0], tf.matmul(z_flat1, W_out1)) \\\n",
    "        + tf.scalar_mul(training_step[1], tf.matmul(z_flat2, W_out2)) \\\n",
    "        + tf.scalar_mul(1- (1-training_step[2]) * (1-training_step[3]), tf.matmul(z_flat3, W_out3)) \n",
    "\n",
    "z_cnn = tf.nn.softmax(y_cnn)"
   ]
  },
  {
   "cell_type": "code",
   "execution_count": 11,
   "metadata": {},
   "outputs": [],
   "source": [
    "W_deconv3 = weight_variable([10, OUT3 * OUT3 * DEPTH3], stddev = STD / 10, name = \"W_deconv3\")\n",
    "z_in3 = tf.scalar_mul(training_step[3], z_cnn)\n",
    "h_deconv3_flat = tf.matmul(z_in3, W_deconv3)\n",
    "h_deconv3 = tf.reshape(h_deconv3_flat, [-1, OUT3, OUT3,  DEPTH3])\n",
    "z_deconv3 = tf.nn.softmax(h_deconv3)\n",
    "\n",
    "W_deconv2 = weight_variable([WIDTH3, WIDTH3, DEPTH2, DEPTH3], stddev = STD / (WIDTH3 * WIDTH3 * DEPTH2), name = \"W_deconv2\")\n",
    "z_in2 = tf.scalar_mul(training_step[2], z_conv3) \\\n",
    "        + tf.scalar_mul(training_step[3], z_deconv3)\n",
    "\n",
    "h_deconv2 = tf.nn.conv2d_transpose(z_in2, W_deconv2, output_shape=[BATCH_SIZE, OUT2, OUT2, DEPTH2],\n",
    "                                        strides=[1, WIDTH3, WIDTH3, 1], padding='VALID') \n",
    "z_deconv2 = tf.nn.softmax(h_deconv2)\n",
    "\n",
    "W_deconv1 = weight_variable([WIDTH2, WIDTH2, DEPTH1, DEPTH2], stddev = STD / (WIDTH2 * WIDTH2 * DEPTH1), name = \"W_deconv1\")\n",
    "z_in1 =   tf.scalar_mul(training_step[1], z_conv2  ) \\\n",
    "        + tf.scalar_mul(1 - ((1 - training_step[2]) * (1 - training_step[3])), z_deconv2)\n",
    "h_deconv1 = tf.nn.conv2d_transpose(z_in1, W_deconv1, output_shape=[BATCH_SIZE, OUT1, OUT1, DEPTH1],\n",
    "                                        strides=[1, WIDTH2, WIDTH2, 1], padding='VALID') \n",
    "z_deconv1 = tf.nn.softmax(h_deconv1)\n",
    "\n",
    "W_deconv0 = weight_variable([WIDTH1, WIDTH1, 1, DEPTH1], stddev = STD / (WIDTH1 * WIDTH1), name = \"W_deconv0\")\n",
    "z_in0 =   tf.scalar_mul( training_step[0]     , z_conv1  ) \\\n",
    "        + tf.scalar_mul( 1 - ((1 - training_step[1]) * (1 - training_step[2]) * (1 - training_step[3])) , z_deconv1)\n",
    "h_deconv0 = tf.nn.conv2d_transpose(z_in0, W_deconv0, output_shape=[BATCH_SIZE, 32, 32, 1],\n",
    "                                        strides=[1, WIDTH1, WIDTH1, 1], padding='VALID') \n",
    "x_deconv0 = tf.nn.sigmoid(h_deconv0)\n",
    "x_out = tf.reshape(x_deconv0, [-1, 32 * 32])\n",
    "\n"
   ]
  },
  {
   "cell_type": "markdown",
   "metadata": {},
   "source": [
    "## Loss graph"
   ]
  },
  {
   "cell_type": "code",
   "execution_count": 12,
   "metadata": {},
   "outputs": [],
   "source": [
    "classif_loss = tf.reduce_mean(tf.nn.softmax_cross_entropy_with_logits(labels=y_, logits=y_cnn))\n",
    "#beta = 0\n",
    "#cross_entropy = tf.reduce_mean(tf.nn.softmax_cross_entropy_with_logits(labels=y_, logits=y_cnn)\\\n",
    "#                               + beta * (tf.nn.l2_loss(W_conv1) \\\n",
    "#                                      + tf.nn.l2_loss(W_conv2) \\\n",
    "#                                      + tf.nn.l2_loss(W_out)))\n",
    "\n",
    "#gen_loss1 = tf.reduce_mean(tf.square(x - x_out))\n",
    "#gen_loss2 = tf.reduce_mean(tf.nn.softmax_cross_entropy_with_logits(labels=z_conv1, logits=h_deconv1))\n",
    "#tf.reduce_mean(tf.square(z_conv1 - z_deconv1))\n",
    "#gen_loss2 = tf.reduce_mean(tf.square(z_conv2 - z_deconv2))\n",
    "#gen_loss3 = tf.reduce_mean(tf.nn.softmax_cross_entropy_with_logits(labels=z_conv2, logits=h_deconv2))\n",
    "\n",
    "gen_loss = tf.reduce_mean(tf.square(x - x_out))\n"
   ]
  },
  {
   "cell_type": "markdown",
   "metadata": {},
   "source": [
    "## Train graph"
   ]
  },
  {
   "cell_type": "code",
   "execution_count": 13,
   "metadata": {},
   "outputs": [],
   "source": [
    "classif_train_stage1 = tf.train.AdamOptimizer(3e-5).minimize(classif_loss, var_list = [W_conv1, W_out1])\n",
    "classif_train_stage2 = tf.train.AdamOptimizer(1e-4).minimize(classif_loss, var_list = [W_conv1, W_conv2, W_out2])\n",
    "classif_train_stage3 = tf.train.AdamOptimizer(1e-4).minimize(classif_loss, var_list = [W_conv1, W_conv2, W_conv3, W_out3])\n",
    "\n",
    "gen_train_stage1 = tf.train.AdamOptimizer(1e-4).minimize(gen_loss , var_list = [W_deconv0, W_conv1])\n",
    "gen_train_stage2 = tf.train.AdamOptimizer(1e-4).minimize(gen_loss , var_list = [W_deconv0, W_deconv1, W_conv1, W_conv2])\n",
    "gen_train_stage3 = tf.train.AdamOptimizer(3e-5).minimize(gen_loss , var_list = [W_deconv0, W_deconv1, W_deconv2, W_conv1, W_conv2, W_conv3])\n",
    "gen_train_stage4 = tf.train.AdamOptimizer(3e-5).minimize(gen_loss , var_list = [W_deconv0, W_deconv1, W_deconv2, W_deconv3, W_conv1, W_conv2, W_conv3])\n",
    "#gen_train_step = tf.train.AdamOptimizer(1e-4).minimize(gen_loss , var_list = [W_deconv1, b_deconv1, W_deconv0, b_deconv0])\n",
    "\n",
    "\n",
    "# train_step = tf.train.GradientDescentOptimizer(0.5).minimize(cross_entropy)"
   ]
  },
  {
   "cell_type": "markdown",
   "metadata": {},
   "source": [
    "## Evaluation graph"
   ]
  },
  {
   "cell_type": "code",
   "execution_count": 14,
   "metadata": {},
   "outputs": [],
   "source": [
    "correct_prediction = tf.equal(tf.argmax(y_cnn, 1), tf.argmax(y_, 1))\n",
    "accuracy = tf.reduce_mean(tf.cast(correct_prediction, tf.float32))\n",
    "gen_accuracy = tf.sqrt(tf.reduce_mean(tf.square(x - x_out)))"
   ]
  },
  {
   "cell_type": "markdown",
   "metadata": {},
   "source": [
    "## Training"
   ]
  },
  {
   "cell_type": "code",
   "execution_count": 15,
   "metadata": {},
   "outputs": [],
   "source": [
    "turn = 1\n",
    "if turn ==1:\n",
    "    sess.run(tf.global_variables_initializer())"
   ]
  },
  {
   "cell_type": "code",
   "execution_count": 16,
   "metadata": {},
   "outputs": [],
   "source": [
    "saver = tf.train.Saver()"
   ]
  },
  {
   "cell_type": "markdown",
   "metadata": {},
   "source": [
    "### Train session Interleaved"
   ]
  },
  {
   "cell_type": "code",
   "execution_count": null,
   "metadata": {
    "scrolled": true
   },
   "outputs": [
    {
     "name": "stdout",
     "output_type": "stream",
     "text": [
      "step 360420, training accuracy : 0.96, generative avg error : 0.1982"
     ]
    }
   ],
   "source": [
    "#with tf.Session() as sess:\n",
    "if not os.path.isfile(\"models/deep-MNIST-3-couches-incremental-optim-sans-biais-INTERLEAVED.ckpt.index\"):\n",
    "    for rep in range(120): #120\n",
    "        for i in range(20000): #2400000\n",
    "            batch = mnist.train.next_batch(BATCH_SIZE)\n",
    "            if i % 10 == 0:\n",
    "                train_accuracy     = accuracy.eval(    feed_dict = {x: mnist_reshape_32(batch[0]),\\\n",
    "                                                                    y_: batch[1],\\\n",
    "                                                                    training_step : [0, 0, 0, 1]})\n",
    "                train_gen_accuracy = gen_accuracy.eval(feed_dict = {x: mnist_reshape_32(batch[0]),\\\n",
    "                                                                    y_: batch[1],\\\n",
    "                                                                    training_step : [0, 0, 0, 1]}) \n",
    "                sys.stdout.write('\\rstep %d, training accuracy : %.2f, generative avg error : %.4f' % (i + rep * 20000, \\\n",
    "                                                                                                       train_accuracy, \\\n",
    "                                                                                                       train_gen_accuracy))\n",
    "                sys.stdout.flush()\n",
    "            if i % 4 == 0:    \n",
    "                classif_train_stage1.run(feed_dict={x: mnist_reshape_32(batch[0]),\\\n",
    "                                                   y_: batch[1],\\\n",
    "                                                   training_step : [1, 0, 0, 0]}) \n",
    "                gen_train_stage1.run(feed_dict={x: mnist_reshape_32(batch[0]),\\\n",
    "                                               training_step : [1, 0, 0, 0]}) \n",
    "            elif i % 4 == 1:\n",
    "                classif_train_stage2.run(feed_dict={x: mnist_reshape_32(batch[0]),\\\n",
    "                                                   y_: batch[1],\\\n",
    "                                                   training_step : [0, 1, 0, 0]}) \n",
    "                gen_train_stage2.run(feed_dict={x: mnist_reshape_32(batch[0]),\\\n",
    "                                               training_step : [0, 1, 0, 0]}) \n",
    "            elif i % 4 == 2:\n",
    "                classif_train_stage3.run(feed_dict={x: mnist_reshape_32(batch[0]),\\\n",
    "                                                   y_: batch[1],\\\n",
    "                                                   training_step : [0, 0, 1, 0]}) \n",
    "                gen_train_stage3.run(feed_dict={x: mnist_reshape_32(batch[0]),\\\n",
    "                                               training_step : [0, 0, 1, 0]}) \n",
    "            else:\n",
    "                classif_train_stage3.run(feed_dict={x: mnist_reshape_32(batch[0]),\\\n",
    "                                                   y_: batch[1],\\\n",
    "                                                   training_step : [0, 0, 0, 1]}) \n",
    "                gen_train_stage4.run(feed_dict={x: mnist_reshape_32(batch[0]),\\\n",
    "                                               training_step : [0, 0, 0, 1]}) \n",
    "        saver.save(sess, \"models/deep-MNIST-3-couches-incremental-optim-sans-biais-INTERLEAVED.ckpt\")\n",
    "else:\n",
    "    saver.restore(sess,'models/deep-MNIST-3-couches-incremental-optim-sans-biais-INTERLEAVED.ckpt')\n"
   ]
  },
  {
   "cell_type": "markdown",
   "metadata": {},
   "source": [
    "**Notes** :\n",
    "  - Avec connectivité totale des couches forward et bakward (ladder connectivity --> effet de regularisation)\n",
    "  - Connectivité selon training_step (app incremental)--> l'erreur de reconstruction stagne à 0.1\n",
    "  - Connectivité selon training_step (app incremental) avec back-prop sur les liens entrants (discriminatifs)\n",
    "    --> l'erreur de reconstruction descend à 0.06"
   ]
  },
  {
   "cell_type": "code",
   "execution_count": null,
   "metadata": {},
   "outputs": [],
   "source": [
    "print('test accuracy %g' % accuracy.eval(feed_dict={x: mnist_reshape_32(mnist.test.images),\\\n",
    "                                                    y_: mnist.test.labels,\\\n",
    "                                                    training_step : [0, 0, 1, 0]}))\n",
    "print('test generative accuracy %g' % gen_accuracy.eval(feed_dict={x: mnist_reshape_32(mnist.test.images)[:50,:],\\\n",
    "                                                                   y_: mnist.test.labels[:50,:],\\\n",
    "                                                                   training_step : [0, 0, 1, 0]}))"
   ]
  },
  {
   "cell_type": "code",
   "execution_count": null,
   "metadata": {},
   "outputs": [],
   "source": [
    "print('test accuracy %g' % accuracy.eval(feed_dict={x: mnist_reshape_32(mnist.test.images),\\\n",
    "                                                    y_: mnist.test.labels,\\\n",
    "                                                    training_step : [0, 0, 0, 1]}))\n",
    "print('test generative accuracy %g' % gen_accuracy.eval(feed_dict={x: mnist_reshape_32(mnist.test.images)[:50,:],\\\n",
    "                                                                   y_: mnist.test.labels[:50,:],\\\n",
    "                                                                   training_step : [0, 0, 0, 1]}))"
   ]
  },
  {
   "cell_type": "markdown",
   "metadata": {},
   "source": [
    "### Tests"
   ]
  },
  {
   "cell_type": "code",
   "execution_count": null,
   "metadata": {},
   "outputs": [],
   "source": [
    "training_step_test = [0, 0, 1, 0]"
   ]
  },
  {
   "cell_type": "code",
   "execution_count": null,
   "metadata": {
    "scrolled": true
   },
   "outputs": [],
   "source": [
    "batch = mnist.test.next_batch(BATCH_SIZE) "
   ]
  },
  {
   "cell_type": "code",
   "execution_count": null,
   "metadata": {},
   "outputs": [],
   "source": [
    "test = sess.run(z_conv1, {x: mnist_reshape_32(batch[0][0]), training_step : training_step_test})\n",
    "print test.shape\n",
    "figure()\n",
    "for k in range(10):        \n",
    "    test = sess.run(z_conv1, {x: mnist_reshape_32(batch[0][k]), training_step : training_step_test})\n",
    "    for i in range(OUT1):\n",
    "        for j in range(OUT1):\n",
    "            plot(test[0,i,j,:])\n",
    "\n",
    "test = sess.run(z_conv2, {x: mnist_reshape_32(batch[0][0]), training_step : training_step_test})\n",
    "print test.shape\n",
    "figure()\n",
    "for k in range(10):        \n",
    "    test = sess.run(z_conv2, {x: mnist_reshape_32(batch[0][k]), training_step : training_step_test})\n",
    "    for i in range(OUT2):\n",
    "        for j in range(OUT2):\n",
    "            plot(test[0,i,j,:])\n",
    "\n",
    "test = sess.run(z_conv3, {x: mnist_reshape_32(batch[0][0]), training_step : training_step_test})\n",
    "print test.shape\n",
    "figure()\n",
    "for k in range(10):        \n",
    "    test = sess.run(z_conv3, {x: mnist_reshape_32(batch[0][k]), training_step : training_step_test})\n",
    "    for i in range(OUT3):\n",
    "        for j in range(OUT3):\n",
    "            plot(test[0,i,j,:])\n",
    "\n",
    "test = sess.run(y_cnn, {x: mnist_reshape_32(batch[0][0]), training_step : training_step_test})\n",
    "print test.shape\n",
    "figure()\n",
    "for k in range(10):        \n",
    "    test = sess.run(y_cnn, {x: mnist_reshape_32(batch[0][k]), training_step : training_step_test})\n",
    "    plot(test[0])\n"
   ]
  },
  {
   "cell_type": "code",
   "execution_count": null,
   "metadata": {
    "scrolled": false
   },
   "outputs": [],
   "source": [
    "for k in range(10):\n",
    "    figure()\n",
    "    subplot(1,2,1)\n",
    "    imshow(mnist_reshape_32(batch[0][k,:]).reshape((32,32)), cmap = 'gray_r')\n",
    "    subplot(1,2,2)\n",
    "    imshow(x_out.eval(feed_dict={x: mnist_reshape_32(batch[0]), training_step : training_step_test})[k,:].reshape((32,32)), cmap = 'gray_r')\n",
    "    print(tf.argmax(y_cnn, 1).eval(feed_dict={x: mnist_reshape_32(batch[0][k]), training_step : training_step_test}))"
   ]
  },
  {
   "cell_type": "code",
   "execution_count": null,
   "metadata": {},
   "outputs": [],
   "source": [
    "print W_deconv0.eval().shape\n",
    "\n",
    "for i in range(8):\n",
    "    subplot(3,3,i)\n",
    "    imshow(W_deconv0.eval()[:,:,0,i].reshape((4,4)), cmap = 'gray_r')"
   ]
  },
  {
   "cell_type": "code",
   "execution_count": null,
   "metadata": {},
   "outputs": [],
   "source": [
    "print OUT1, OUT1, DEPTH1\n",
    "print OUT2, OUT2, DEPTH2\n",
    "print OUT3, OUT3, DEPTH3"
   ]
  },
  {
   "cell_type": "markdown",
   "metadata": {
    "collapsed": true
   },
   "source": [
    "## Saccades algorithm"
   ]
  },
  {
   "cell_type": "code",
   "execution_count": null,
   "metadata": {},
   "outputs": [],
   "source": [
    "def gen_x_coords(x, liste_coords, aff = False):\n",
    "    # coord in 0..7\n",
    "    assert x.shape == ((32 * 32,))\n",
    "    image_in = x.reshape((32, 32)) \n",
    "    image_out = np.zeros((32, 32))\n",
    "    if aff:\n",
    "        image_out += .3\n",
    "    for u in liste_coords:\n",
    "        patch = image_in[int(u[0] * 4) : int(u[0] * 4) + 4, int(u[1] * 4) : int(u[1] * 4) + 4]\n",
    "        image_out[int(u[0] * 4) : int(u[0] * 4) + 4, int(u[1] * 4) : int(u[1] * 4) + 4] = patch\n",
    "    return image_out.reshape((32 * 32,))"
   ]
  },
  {
   "cell_type": "code",
   "execution_count": null,
   "metadata": {},
   "outputs": [],
   "source": [
    "'''liste_coords = [(2, 2), (2, 3), (2, 4), (2, 5),\\\n",
    "                (3, 2), (3, 3), (3, 4), (3, 5),\\\n",
    "                (4, 2), (4, 3), (4, 4), (4, 5),\\\n",
    "                (5, 2), (5, 3), (5, 4), (5, 5)]'''\n",
    "liste_coords = [(2.5, 2.5), (2.5, 3.5), (2.5, 4.5),\\\n",
    "                (3.5, 2.5), (3.5, 3.5), (3.5, 4.5),\\\n",
    "                (4.5, 2.5), (4.5, 3.5), (4.5, 4.5)]\n",
    "batch_reduced = np.zeros((BATCH_SIZE, 1024))\n",
    "for k in range(BATCH_SIZE):\n",
    "    x_reduced = gen_x_coords(mnist_reshape_32(batch[0])[k], liste_coords)\n",
    "    batch_reduced[k,:] = x_reduced"
   ]
  },
  {
   "cell_type": "code",
   "execution_count": null,
   "metadata": {
    "scrolled": false
   },
   "outputs": [],
   "source": [
    "for k in range(10):\n",
    "    y_real = argmax(batch[1][k])\n",
    "    y_infer = tf.argmax(y_cnn, 1).eval(feed_dict={x: batch_reduced, training_step : training_step_test})[k]\n",
    "    figure()\n",
    "    subplot(1,2,1)\n",
    "    imshow(batch_reduced[k,:].reshape((32,32)), cmap = 'gray_r')\n",
    "    title('Real class : ' + str(y_real))\n",
    "    subplot(1,2,2)\n",
    "    imshow(x_out.eval(feed_dict={x: batch_reduced, training_step : training_step_test})[k,:].reshape((32,32)), cmap = 'gray_r')\n",
    "    title('Inferred class : ' + str(y_infer))\n",
    "    print(y_real,\\\n",
    "          tf.nn.softmax(y_cnn.eval(feed_dict={x: batch_reduced, training_step : training_step_test})[k]).eval()[y_infer],\\\n",
    "          y_infer)"
   ]
  },
  {
   "cell_type": "code",
   "execution_count": null,
   "metadata": {},
   "outputs": [],
   "source": [
    "OFFSET = .5\n",
    "TURN_MAX = 49 #12\n",
    "THRESHOLD = .97"
   ]
  },
  {
   "cell_type": "code",
   "execution_count": null,
   "metadata": {
    "scrolled": false
   },
   "outputs": [],
   "source": [
    "k = 2\n",
    "\n",
    "# Data\n",
    "batch_X = mnist_reshape_32(batch[0])\n",
    "X = batch_X[k]\n",
    "batch_X_reduced = np.zeros((BATCH_SIZE, 32 * 32))\n",
    "batch_classif = batch[1]\n",
    "# Initialization\n",
    "U = {}\n",
    "for i in range(OUT1-1):\n",
    "    for j in range(OUT1-1):\n",
    "        U[(i,j)] = 1\n",
    "u = (3, 3) #(2 + np.random.randint(4), 2 + np.random.randint(4))\n",
    "liste_u = np.array([u])\n",
    "U.pop(u)\n",
    "# fill batch_X_reduced\n",
    "X_reduced = gen_x_coords(batch_X[k], liste_u + OFFSET)\n",
    "batch_X_reduced[k] = X_reduced\n",
    "mem_X_reduced = [X_reduced]\n",
    "# prior\n",
    "q = tf.nn.softmax(y_cnn.eval(feed_dict={x: X_reduced.reshape(1,1024), training_step : training_step_test})).eval()[0]\n",
    "mem_q = np.zeros((OUT1 * OUT1 + 1, 10))\n",
    "mem_q[0, :] = [.1] * 10\n",
    "mem_q[1, :] = q\n",
    "current_hyp = np.where(np.random.multinomial(1,q) == 1)[0][0]\n",
    "max_hyp = argmax(q) \n",
    "#current_hyp = \n",
    "#print q, current_hyp, argmax(batch_classif[k])\n",
    "turn = 1\n",
    "while turn < TURN_MAX and q[max_hyp] < THRESHOLD: #OUT1 * OUT1):\n",
    "    print turn, str(argmax(batch_classif[k])), max_hyp, q[max_hyp]\n",
    "    f = plt.figure()\n",
    "    plt.subplot(1,2,1)\n",
    "    X_reduced_aff = gen_x_coords(batch_X[k], liste_u + OFFSET, aff = True)\n",
    "    plt.imshow(X_reduced_aff.reshape((32,32)), cmap = 'gray_r', vmin = 0, vmax = 1)\n",
    "    title('saccade #' +  str(turn) + ', real class = ' + str(argmax(batch_classif[k])))\n",
    "    # affichage\n",
    "    i_N = 4 * (liste_u[-1][0] + OFFSET) - .5\n",
    "    i_S = 4 * (liste_u[-1][0] + OFFSET) + 3.5\n",
    "    j_W = 4 * (liste_u[-1][1] + OFFSET) - .5\n",
    "    j_E = 4 * (liste_u[-1][1] + OFFSET) + 3.5\n",
    "\n",
    "    plt.plot([j_W, j_E], [i_N, i_N],'r')\n",
    "    plt.plot([j_W, j_W], [i_N, i_S], 'r')\n",
    "    plt.plot([j_W, j_E], [i_S, i_S], 'r')\n",
    "    plt.plot([j_E, j_E], [i_N, i_S], 'r')\n",
    "    xlim([-0.5, 31.5])\n",
    "    ylim([-0.5, 31.5])\n",
    "    plt.gca().invert_yaxis()\n",
    "    \n",
    "    X_generated = x_out.eval(feed_dict={x: batch_X_reduced, \\\n",
    "                                        training_step : training_step_test})[k,:]\n",
    "    plt.subplot(1,2,2)\n",
    "    plt.imshow(X_generated.reshape((32,32)), cmap = 'gray_r', vmin = 0, vmax = 1)\n",
    "    plt.title('hyp = ' + str(max_hyp) + ' (' + str(q[max_hyp]) + ')')\n",
    "    gen_images = {}\n",
    "    batch_X_patch = np.zeros((len(U), 32 * 32))\n",
    "    dict_u = {}\n",
    "    for i, u_gen in enumerate(U):\n",
    "        dict_u[i] = u_gen\n",
    "        batch_X_patch[i,:] = gen_x_coords(X_generated, [(u_gen[0] + OFFSET, u_gen[1] + OFFSET)])\n",
    "    q_gen = tf.nn.softmax(y_cnn.eval(feed_dict={x: batch_X_patch,\\\n",
    "                                                training_step : training_step_test})).eval()\n",
    "    i_max = np.where(q_gen[:, current_hyp] == max(q_gen[:, current_hyp]))[0][0]\n",
    "    u_max = dict_u[i_max]\n",
    "    \n",
    "    # affichage\n",
    "    i_N = 4 * (u_max[0] + OFFSET) - .5\n",
    "    i_S = 4 * (u_max[0] + OFFSET) + 3.5\n",
    "    j_W = 4 * (u_max[1] + OFFSET) - .5\n",
    "    j_E = 4 * (u_max[1] + OFFSET) + 3.5\n",
    "\n",
    "    plt.plot([j_W, j_E], [i_N, i_N],'r:')\n",
    "    plt.plot([j_W, j_W], [i_N, i_S], 'r:')\n",
    "    plt.plot([j_W, j_E], [i_S, i_S], 'r:')\n",
    "    plt.plot([j_E, j_E], [i_N, i_S], 'r:')\n",
    "    \n",
    "    i_prec = 4 * (liste_u[-1][0] + .5) + 1.5\n",
    "    j_prec = 4 * (liste_u[-1][1] + .5) + 1.5\n",
    "    i_new = 4 * (u_max[0] + .5) + 1.5\n",
    "    j_new = 4 * (u_max[1] + .5) + 1.5\n",
    "    \n",
    "    plt.plot([j_prec, j_new], [i_prec, i_new], 'r')\n",
    "    plt.plot([j_prec], [i_prec], 'rx')\n",
    "    plt.plot([j_new], [i_new], 'rx')\n",
    "    \n",
    "    #plt.gca().invert_xaxis()\n",
    "    xlim([-0.5, 31.5])\n",
    "    ylim([-0.5, 31.5])\n",
    "    plt.gca().invert_yaxis()\n",
    "    \n",
    "    liste_u = np.append(liste_u, np.array([u_max]), axis = 0)\n",
    "    #print liste_u\n",
    "    U.pop(u_max)\n",
    "    X_reduced = gen_x_coords(batch_X[k], liste_u + OFFSET)\n",
    "    batch_X_reduced[k] = X_reduced\n",
    "    mem_X_reduced += [X_reduced]\n",
    "    q = tf.nn.softmax(y_cnn.eval(feed_dict={x: X_reduced.reshape(1,1024), training_step : training_step_test})).eval()[0]\n",
    "    turn += 1\n",
    "    mem_q[turn, :] = q\n",
    "    #print q, argmax(q), argmax(batch_classif[k])\n",
    "    current_hyp = np.where(np.random.multinomial(1,q) == 1)[0][0] #\n",
    "    max_hyp = argmax(q) #\n",
    "    \n",
    "current_hyp = argmax(q)\n",
    "print  'Nb saccades :', turn, 'real_class = ', str(argmax(batch_classif[k])), 'estim class = ', str(current_hyp) \n",
    "f = plt.figure()\n",
    "plt.subplot(1,2,1)\n",
    "X_reduced_aff = gen_x_coords(batch_X[k], liste_u + OFFSET, aff = True)\n",
    "plt.imshow(X_reduced_aff.reshape((32,32)), cmap = 'gray_r', vmin = 0, vmax = 1)\n",
    "title('saccade #' +  str(turn) + ', real class = ' + str(argmax(batch_classif[k])))\n",
    "plt.subplot(1,2,2)\n",
    "plt.imshow(X_generated.reshape((32,32)), cmap = 'gray_r', vmin = 0, vmax = 1)\n",
    "plt.title('final hyp = ' + str(current_hyp) + ' (' + str(q[current_hyp]) + ')')\n",
    "\n",
    "f = figure()\n",
    "p = plot(mem_q[:turn + 1,:])\n",
    "xlim([0, TURN_MAX])\n",
    "ylim([0, 1])\n",
    "#handles, labels = f.  get_legend_handles_labels()\n",
    "title('Posterior distribution')\n",
    "f.legend(p, range(10))\n",
    "xlabel('saccade #')\n",
    "#image = "
   ]
  },
  {
   "cell_type": "code",
   "execution_count": null,
   "metadata": {
    "scrolled": true
   },
   "outputs": [],
   "source": [
    "mem_mem_q = []\n",
    "mem_liste_u = []\n",
    "mem_classif = []\n",
    "mem_class = []\n",
    "mem_final_hyp = []\n",
    "mem_turn = []\n",
    "for num_batch in range(20):\n",
    "    batch = mnist.test.next_batch(BATCH_SIZE) \n",
    "    for k in range(BATCH_SIZE):\n",
    "        print num_batch * 20 + k\n",
    "        batch_X = mnist_reshape_32(batch[0])\n",
    "        X = batch_X[k]\n",
    "        batch_X_reduced = np.zeros((BATCH_SIZE, 32 * 32))\n",
    "        batch_classif = batch[1]\n",
    "        # Initialization\n",
    "        U = {}\n",
    "        for i in range(OUT1-1):\n",
    "            for j in range(OUT1-1):\n",
    "                U[(i,j)] = 1\n",
    "        u = (3, 3) #(2 + np.random.randint(4), 2 + np.random.randint(4))\n",
    "        liste_u = np.array([u])\n",
    "        U.pop(u)\n",
    "        # fill batch_X_reduced\n",
    "        X_reduced = gen_x_coords(batch_X[k], liste_u + OFFSET)\n",
    "        batch_X_reduced[k] = X_reduced\n",
    "        mem_X_reduced = [X_reduced]\n",
    "        # prior\n",
    "        mem_q = np.zeros((OUT1 * OUT1 + 1, 10))\n",
    "        mem_q[0, :] = [.1] * 10\n",
    "        q = tf.nn.softmax(y_cnn.eval(feed_dict={x: X_reduced.reshape(1,1024), training_step : training_step_test})).eval()[0]\n",
    "        mem_q[1, :] = q\n",
    "        current_hyp = np.where(np.random.multinomial(1,q) == 1)[0][0]\n",
    "        max_hyp = argmax(q) \n",
    "        #current_hyp = \n",
    "        #print q, current_hyp, argmax(batch_classif[k])\n",
    "        turn = 1\n",
    "        while turn < TURN_MAX and q[max_hyp] < THRESHOLD: #OUT1 * OUT1):\n",
    "\n",
    "            X_generated = x_out.eval(feed_dict={x: batch_X_reduced, \\\n",
    "                                                training_step : training_step_test})[k,:]\n",
    "\n",
    "            batch_X_patch = np.zeros((len(U), 32 * 32))\n",
    "            dict_u = {}\n",
    "            for i, u_gen in enumerate(U):\n",
    "                dict_u[i] = u_gen\n",
    "                batch_X_patch[i,:] = gen_x_coords(X_generated, [(u_gen[0] + OFFSET, u_gen[1] + OFFSET)])\n",
    "            q_gen = tf.nn.softmax(y_cnn.eval(feed_dict={x: batch_X_patch,\\\n",
    "                                                        training_step : training_step_test})).eval()\n",
    "            i_max = np.where(q_gen[:, current_hyp] == max(q_gen[:, current_hyp]))[0][0]\n",
    "            u_max = dict_u[i_max]\n",
    "\n",
    "            liste_u = np.append(liste_u, np.array([u_max]), axis = 0)\n",
    "            #print liste_u\n",
    "            U.pop(u_max)\n",
    "            X_reduced = gen_x_coords(batch_X[k], liste_u + OFFSET)\n",
    "            batch_X_reduced[k] = X_reduced\n",
    "            mem_X_reduced += [X_reduced]\n",
    "            q = tf.nn.softmax(y_cnn.eval(feed_dict={x: X_reduced.reshape(1,1024), training_step : training_step_test})).eval()[0]\n",
    "            turn += 1\n",
    "            mem_q[turn, :] = q\n",
    "            #print q, argmax(q), argmax(batch_classif[k])\n",
    "            current_hyp = np.where(np.random.multinomial(1,q) == 1)[0][0] #\n",
    "            max_hyp = argmax(q) #\n",
    "\n",
    "        current_hyp = argmax(q)\n",
    "        print  'Nb saccades :', turn, ', real_class = ', str(argmax(batch_classif[k])), 'estim class = ', str(current_hyp) \n",
    "\n",
    "\n",
    "        #f = figure()\n",
    "        #p = plot(mem_q[:turn + 1,:])\n",
    "        #xlim([0, TURN_MAX])\n",
    "        #ylim([0, 1])\n",
    "        #title('Posterior distribution')\n",
    "        #f.legend(p, range(10))\n",
    "        #xlabel('saccade #')\n",
    "\n",
    "        mem_mem_q += [mem_q] \n",
    "        mem_liste_u += [mem_liste_u] \n",
    "        mem_classif += [argmax(batch_classif[k]) == current_hyp]\n",
    "        mem_turn += [turn]\n",
    "        mem_class += [argmax(batch_classif[k])]\n",
    "        mem_final_hyp += [current_hyp]"
   ]
  },
  {
   "cell_type": "code",
   "execution_count": null,
   "metadata": {},
   "outputs": [],
   "source": [
    "print mean(mem_turn)\n",
    "print mean(mem_classif)"
   ]
  },
  {
   "cell_type": "code",
   "execution_count": null,
   "metadata": {},
   "outputs": [],
   "source": [
    "print mean(mem_turn)\n",
    "print mean(mem_classif)"
   ]
  },
  {
   "cell_type": "code",
   "execution_count": null,
   "metadata": {},
   "outputs": [],
   "source": [
    "mem_turn_49 = np.copy(mem_turn)\n",
    "mem_classif_49 = np.copy(mem_classif)\n",
    "h = hist(mem_turn_49, 49)"
   ]
  },
  {
   "cell_type": "markdown",
   "metadata": {},
   "source": [
    "im = np.zeros(1024)\n",
    "for liste_u in mem_liste_u:\n",
    "    tmp = gen_x_coords(np.ones(1024), np.array(liste_u) + OFFSET)\n",
    "    im += tmp\n",
    "imshow(im.reshape(32, 32))"
   ]
  },
  {
   "cell_type": "code",
   "execution_count": null,
   "metadata": {},
   "outputs": [],
   "source": [
    "# 643 saccades (max 49) : TURN MAX\n",
    "mean(mem_turn) : 19.6562986003\n",
    "mean(mem_classif) : 0.858475894246\n",
    "    \n",
    "# Idea : the model hs learned that theinformation is in the center"
   ]
  },
  {
   "cell_type": "code",
   "execution_count": null,
   "metadata": {},
   "outputs": [],
   "source": [
    "print mean(mem_turn)\n",
    "print mean(mem_classif)"
   ]
  },
  {
   "cell_type": "code",
   "execution_count": null,
   "metadata": {},
   "outputs": [],
   "source": []
  }
 ],
 "metadata": {
  "kernelspec": {
   "display_name": "Python 2",
   "language": "python",
   "name": "python2"
  },
  "language_info": {
   "codemirror_mode": {
    "name": "ipython",
    "version": 2
   },
   "file_extension": ".py",
   "mimetype": "text/x-python",
   "name": "python",
   "nbconvert_exporter": "python",
   "pygments_lexer": "ipython2",
   "version": "2.7.13"
  }
 },
 "nbformat": 4,
 "nbformat_minor": 2
}
