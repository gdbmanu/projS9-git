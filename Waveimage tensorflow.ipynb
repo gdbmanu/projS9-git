{
 "cells": [
  {
   "cell_type": "code",
   "execution_count": 2,
   "metadata": {},
   "outputs": [
    {
     "ename": "ImportError",
     "evalue": "Traceback (most recent call last):\n  File \"/usr/local/lib/python2.7/dist-packages/tensorflow/python/pywrap_tensorflow.py\", line 58, in <module>\n    from tensorflow.python.pywrap_tensorflow_internal import *\n  File \"/usr/local/lib/python2.7/dist-packages/tensorflow/python/pywrap_tensorflow_internal.py\", line 28, in <module>\n    _pywrap_tensorflow_internal = swig_import_helper()\n  File \"/usr/local/lib/python2.7/dist-packages/tensorflow/python/pywrap_tensorflow_internal.py\", line 24, in swig_import_helper\n    _mod = imp.load_module('_pywrap_tensorflow_internal', fp, pathname, description)\nImportError: libcublas.so.8.0: cannot open shared object file: No such file or directory\n\n\nFailed to load the native TensorFlow runtime.\n\nSee https://www.tensorflow.org/install/install_sources#common_installation_problems\n\nfor some common reasons and solutions.  Include the entire stack trace\nabove this error message when asking for help.",
     "output_type": "error",
     "traceback": [
      "\u001b[0;31m---------------------------------------------------------------------------\u001b[0m",
      "\u001b[0;31mImportError\u001b[0m                               Traceback (most recent call last)",
      "\u001b[0;32m<ipython-input-2-1c5f2aa62e38>\u001b[0m in \u001b[0;36m<module>\u001b[0;34m()\u001b[0m\n\u001b[0;32m----> 1\u001b[0;31m \u001b[0;32mimport\u001b[0m \u001b[0mtensorflow\u001b[0m \u001b[0;32mas\u001b[0m \u001b[0mtf\u001b[0m\u001b[0;34m\u001b[0m\u001b[0m\n\u001b[0m\u001b[1;32m      2\u001b[0m \u001b[0;32mimport\u001b[0m \u001b[0mmatplotlib\u001b[0m\u001b[0;34m.\u001b[0m\u001b[0mpyplot\u001b[0m \u001b[0;32mas\u001b[0m \u001b[0mplt\u001b[0m\u001b[0;34m\u001b[0m\u001b[0m\n\u001b[1;32m      3\u001b[0m \u001b[0;32mimport\u001b[0m \u001b[0mnumpy\u001b[0m \u001b[0;32mas\u001b[0m \u001b[0mnp\u001b[0m\u001b[0;34m\u001b[0m\u001b[0m\n\u001b[1;32m      4\u001b[0m \u001b[0;32mimport\u001b[0m \u001b[0msys\u001b[0m\u001b[0;34m\u001b[0m\u001b[0m\n\u001b[1;32m      5\u001b[0m \u001b[0mget_ipython\u001b[0m\u001b[0;34m(\u001b[0m\u001b[0;34m)\u001b[0m\u001b[0;34m.\u001b[0m\u001b[0mmagic\u001b[0m\u001b[0;34m(\u001b[0m\u001b[0;34mu'pylab inline'\u001b[0m\u001b[0;34m)\u001b[0m\u001b[0;34m\u001b[0m\u001b[0m\n",
      "\u001b[0;32m/usr/local/lib/python2.7/dist-packages/tensorflow/__init__.py\u001b[0m in \u001b[0;36m<module>\u001b[0;34m()\u001b[0m\n\u001b[1;32m     22\u001b[0m \u001b[0;34m\u001b[0m\u001b[0m\n\u001b[1;32m     23\u001b[0m \u001b[0;31m# pylint: disable=wildcard-import\u001b[0m\u001b[0;34m\u001b[0m\u001b[0;34m\u001b[0m\u001b[0m\n\u001b[0;32m---> 24\u001b[0;31m \u001b[0;32mfrom\u001b[0m \u001b[0mtensorflow\u001b[0m\u001b[0;34m.\u001b[0m\u001b[0mpython\u001b[0m \u001b[0;32mimport\u001b[0m \u001b[0;34m*\u001b[0m\u001b[0;34m\u001b[0m\u001b[0m\n\u001b[0m\u001b[1;32m     25\u001b[0m \u001b[0;31m# pylint: enable=wildcard-import\u001b[0m\u001b[0;34m\u001b[0m\u001b[0;34m\u001b[0m\u001b[0m\n\u001b[1;32m     26\u001b[0m \u001b[0;34m\u001b[0m\u001b[0m\n",
      "\u001b[0;32m/usr/local/lib/python2.7/dist-packages/tensorflow/python/__init__.py\u001b[0m in \u001b[0;36m<module>\u001b[0;34m()\u001b[0m\n\u001b[1;32m     47\u001b[0m \u001b[0;32mimport\u001b[0m \u001b[0mnumpy\u001b[0m \u001b[0;32mas\u001b[0m \u001b[0mnp\u001b[0m\u001b[0;34m\u001b[0m\u001b[0m\n\u001b[1;32m     48\u001b[0m \u001b[0;34m\u001b[0m\u001b[0m\n\u001b[0;32m---> 49\u001b[0;31m \u001b[0;32mfrom\u001b[0m \u001b[0mtensorflow\u001b[0m\u001b[0;34m.\u001b[0m\u001b[0mpython\u001b[0m \u001b[0;32mimport\u001b[0m \u001b[0mpywrap_tensorflow\u001b[0m\u001b[0;34m\u001b[0m\u001b[0m\n\u001b[0m\u001b[1;32m     50\u001b[0m \u001b[0;34m\u001b[0m\u001b[0m\n\u001b[1;32m     51\u001b[0m \u001b[0;31m# Protocol buffers\u001b[0m\u001b[0;34m\u001b[0m\u001b[0;34m\u001b[0m\u001b[0m\n",
      "\u001b[0;32m/usr/local/lib/python2.7/dist-packages/tensorflow/python/pywrap_tensorflow.py\u001b[0m in \u001b[0;36m<module>\u001b[0;34m()\u001b[0m\n\u001b[1;32m     70\u001b[0m \u001b[0;32mfor\u001b[0m \u001b[0msome\u001b[0m \u001b[0mcommon\u001b[0m \u001b[0mreasons\u001b[0m \u001b[0;32mand\u001b[0m \u001b[0msolutions\u001b[0m\u001b[0;34m.\u001b[0m  \u001b[0mInclude\u001b[0m \u001b[0mthe\u001b[0m \u001b[0mentire\u001b[0m \u001b[0mstack\u001b[0m \u001b[0mtrace\u001b[0m\u001b[0;34m\u001b[0m\u001b[0m\n\u001b[1;32m     71\u001b[0m above this error message when asking for help.\"\"\" % traceback.format_exc()\n\u001b[0;32m---> 72\u001b[0;31m   \u001b[0;32mraise\u001b[0m \u001b[0mImportError\u001b[0m\u001b[0;34m(\u001b[0m\u001b[0mmsg\u001b[0m\u001b[0;34m)\u001b[0m\u001b[0;34m\u001b[0m\u001b[0m\n\u001b[0m\u001b[1;32m     73\u001b[0m \u001b[0;34m\u001b[0m\u001b[0m\n\u001b[1;32m     74\u001b[0m \u001b[0;31m# pylint: enable=wildcard-import,g-import-not-at-top,unused-import,line-too-long\u001b[0m\u001b[0;34m\u001b[0m\u001b[0;34m\u001b[0m\u001b[0m\n",
      "\u001b[0;31mImportError\u001b[0m: Traceback (most recent call last):\n  File \"/usr/local/lib/python2.7/dist-packages/tensorflow/python/pywrap_tensorflow.py\", line 58, in <module>\n    from tensorflow.python.pywrap_tensorflow_internal import *\n  File \"/usr/local/lib/python2.7/dist-packages/tensorflow/python/pywrap_tensorflow_internal.py\", line 28, in <module>\n    _pywrap_tensorflow_internal = swig_import_helper()\n  File \"/usr/local/lib/python2.7/dist-packages/tensorflow/python/pywrap_tensorflow_internal.py\", line 24, in swig_import_helper\n    _mod = imp.load_module('_pywrap_tensorflow_internal', fp, pathname, description)\nImportError: libcublas.so.8.0: cannot open shared object file: No such file or directory\n\n\nFailed to load the native TensorFlow runtime.\n\nSee https://www.tensorflow.org/install/install_sources#common_installation_problems\n\nfor some common reasons and solutions.  Include the entire stack trace\nabove this error message when asking for help."
     ]
    }
   ],
   "source": [
    "import tensorflow as tf\n",
    "import matplotlib.pyplot as plt\n",
    "import numpy as np\n",
    "import sys\n",
    "%pylab inline"
   ]
  },
  {
   "cell_type": "code",
   "execution_count": 23,
   "metadata": {
    "collapsed": true
   },
   "outputs": [],
   "source": [
    "import pywt"
   ]
  },
  {
   "cell_type": "code",
   "execution_count": 2,
   "metadata": {},
   "outputs": [
    {
     "name": "stdout",
     "output_type": "stream",
     "text": [
      "Extracting MNIST_data/train-images-idx3-ubyte.gz\n",
      "Extracting MNIST_data/train-labels-idx1-ubyte.gz\n",
      "Extracting MNIST_data/t10k-images-idx3-ubyte.gz\n",
      "Extracting MNIST_data/t10k-labels-idx1-ubyte.gz\n"
     ]
    }
   ],
   "source": [
    "from tensorflow.examples.tutorials.mnist import input_data\n",
    "mnist = input_data.read_data_sets(\"MNIST_data/\", one_hot=True)"
   ]
  },
  {
   "cell_type": "code",
   "execution_count": 11,
   "metadata": {
    "collapsed": true
   },
   "outputs": [],
   "source": [
    "def mnist_reshape_128(x, i_offset = 0, j_offset = 0):\n",
    "    assert x.shape == (28 * 28,)\n",
    "    image = x.reshape(28, 28)\n",
    "    image = np.append(np.zeros((128 + 2, 28)), image, axis = 0)\n",
    "    image = np.append(image, np.zeros((128 + 2, 28)), axis = 0)\n",
    "    image = np.append(np.zeros((288, 128 + 2)), image, axis = 1)\n",
    "    image = np.append(image, np.zeros((288, 128 + 2)), axis = 1)\n",
    "    return image[128 + 16 - 64 + i_offset : 128 + 16 + 64 + i_offset, 128 + 16 - 64 + j_offset : 128 + 16 + 64 + j_offset]"
   ]
  },
  {
   "cell_type": "code",
   "execution_count": 20,
   "metadata": {},
   "outputs": [
    {
     "data": {
      "text/plain": [
       "<matplotlib.image.AxesImage at 0x7fdb12b43750>"
      ]
     },
     "execution_count": 20,
     "metadata": {},
     "output_type": "execute_result"
    },
    {
     "data": {
      "image/png": "[encoded data removed]",
      "text/plain": [
       "<matplotlib.figure.Figure at 0x7fdb13294690>"
      ]
     },
     "metadata": {},
     "output_type": "display_data"
    },
    {
     "data": {
      "image/png": "[encoded data removed]",
      "text/plain": [
       "<matplotlib.figure.Figure at 0x7fdb12bb5350>"
      ]
     },
     "metadata": {},
     "output_type": "display_data"
    }
   ],
   "source": [
    "imshow(mnist_reshape_128(mnist.train.images[0], i_offset = 32, j_offset = 32), cmap = 'gray_r', interpolation = 'nearest')\n",
    "figure()\n",
    "imshow(mnist.train.images[0].reshape((28,28)), cmap = 'gray_r', interpolation = 'nearest')"
   ]
  },
  {
   "cell_type": "code",
   "execution_count": 27,
   "metadata": {
    "collapsed": true
   },
   "outputs": [],
   "source": [
    "def calc_dim(shape, h, h_max):\n",
    "\tassert 0 <= h < h_max\n",
    "\tif h == 0:\n",
    "\t\tdim_i = int(math.ceil(shape[0] * 1. / 2**(h_max - 1)))\n",
    "\t\tdim_j = int(math.ceil(shape[1] * 1. / 2**(h_max - 1)))\n",
    "\telse :\n",
    "\t\tdim_i = int(math.ceil(shape[0] * 1. / 2**(h_max - h)))\n",
    "\t\tdim_j = int(math.ceil(shape[1] * 1. / 2**(h_max - h)))\n",
    "\treturn dim_i, dim_j"
   ]
  },
  {
   "cell_type": "code",
   "execution_count": 21,
   "metadata": {
    "collapsed": true
   },
   "outputs": [],
   "source": [
    "class WaveImage:\n",
    "\t\n",
    "\tdef __init__(self, image = None, shape = (32, 32)):\n",
    "\t\t\n",
    "\t\t# Attribut shape\n",
    "\t\tif image is not None:\n",
    "\t\t\t# Decomposition ondelettes\n",
    "\t\t\tcoeffs = pywt.wavedec2(image, 'haar')\n",
    "\t\t\tself.__shape = image.shape\n",
    "\t\telse:\n",
    "\t\t\tself.__shape = shape\t\t\n",
    "\t\t\n",
    "\t\t# Attribut h_max : profondeur de l'image\n",
    "\t\tself.__h_max = min(int(math.log(self.__shape[0], 2)) + 1, \tint(math.log(self.__shape[1], 2)) + 1)\n",
    "\t\t\t\n",
    "\t\t# Attribut data : L'attribut data contient les vecteurs en position [h][u] (dictionnaire)\n",
    "\t\tif image is not None:\n",
    "\t\t\tself.__data = {}\n",
    "\t\t\tfor h in range(self.__h_max):\n",
    "\t\t\t\tself.__data[h] = {}\n",
    "\t\t\t\tif h == 0:\n",
    "\t\t\t\t\t(i_max, j_max) = coeffs[h].shape\n",
    "\t\t\t\telse:\n",
    "\t\t\t\t\t(i_max, j_max) = coeffs[h][0].shape\n",
    "\t\t\t\tfor i in range(i_max):\n",
    "\t\t\t\t\tfor j in range(j_max):\n",
    "\t\t\t\t\t\tif h == 0:\n",
    "\t\t\t\t\t\t\tdata = coeffs[h][i][j]\n",
    "\t\t\t\t\t\telse:\n",
    "\t\t\t\t\t\t\tdata = coeffs[h][0][i][j]\n",
    "\t\t\t\t\t\t\tfor k in range(1,len(coeffs[h])):\n",
    "\t\t\t\t\t\t\t\tdata = np.append(data, coeffs[h][k][i][j])\t\n",
    "\t\t\t\t\t\tself.__data[h][(i, j)] = data\t\t\t\t\n",
    "\t\telse: # image is None\n",
    "\t\t\tself.__data = {}\n",
    "\t\t\tfor h in range(self.__h_max):\n",
    "\t\t\t\tself.__data[h] = {}\n",
    "\t\t\t\t\t\n",
    "\t\t\n",
    "\tdef get_data(self):\n",
    "\t\treturn self.__data\n",
    "\t\n",
    "\tdef get_shape(self):\n",
    "\t\treturn self.__data\n",
    "\t\t\t\t\n",
    "\tdef set_data(self, h, u, v):\n",
    "\t\tassert 0 <= h < self.__h_max\n",
    "\t\tdim_i, dim_j = calc_dim(self.__shape, h, self.__h_max)\n",
    "\t\tassert 0 <= u[0] < dim_i\n",
    "\t\tassert 0 <= u[1] < dim_j\n",
    "\t\tif h == 0 :\n",
    "\t\t\tself.__data[h][u] = v\n",
    "\t\telse:\n",
    "\t\t\tself.__data[h][u] = np.copy(v)\n",
    "\t\t\n",
    "\tdef get_h_max(self):\n",
    "\t\treturn self.__h_max\n",
    "\t\t\n",
    "\tdef get_image(self):\n",
    "\t\tcoeffs = []\n",
    "\t\tfor h in range(self.__h_max):\n",
    "\t\t\tdim_i, dim_j = calc_dim(self.__shape, h, self.__h_max)\n",
    "\t\t\tif h == 0:\n",
    "\t\t\t\tcoeffs_h = np.zeros((dim_i, dim_j))\n",
    "\t\t\t\tfor u in self.__data[h]:\n",
    "\t\t\t\t\tcoeffs_h[u[0],u[1]] = self.__data[h][u]\n",
    "\t\t\telse:\n",
    "\t\t\t\tcoeffs_h = [np.zeros((dim_i, dim_j)), np.zeros((dim_i, dim_j)), np.zeros((dim_i, dim_j))]\n",
    "\t\t\t\tfor u in self.__data[h]:\n",
    "\t\t\t\t\tfor k in range(3):\n",
    "\t\t\t\t\t\tcoeffs_h[k][u[0],u[1]] = self.__data[h][u][k]\n",
    "\t\t\tcoeffs += [coeffs_h]\n",
    "\t\treturn pywt.waverec2(coeffs, 'haar')\t\n",
    "\t\t\n",
    "\tdef add_coeffs(self, waveImage, u, h_ref = 0):\n",
    "\t\t# Niveau 0\n",
    "\t\th_opp = self.__h_max - 1\n",
    "\t\ti = int(u[0] / 2**h_opp) \n",
    "\t\tj = int(u[1] / 2**h_opp)\n",
    "\t\tu_0 = (i,j)\n",
    "\t\tif self.__data[0] == {}:\n",
    "\t\t\tself.__data[0][u_0] = waveImage.get_data()[0][u_0]\n",
    "\t\telse:\n",
    "\t\t\tv_test = self.__data[0][u_0]\n",
    "\t\t\tif np.linalg.norm(v_test) < 1e-16:\n",
    "\t\t\t\tself.__data[0][u_0] = waveImage.getData()[0][u_0]\n",
    "\t\t# Niveaux 1 et +\n",
    "\t\tfor h in range(1, h_ref) :\n",
    "\t\t\th_opp = self.__h_max - h\n",
    "\t\t\ti = int(u[0] / 2**h_opp) \n",
    "\t\t\tj = int(u[1] / 2**h_opp)\n",
    "\t\t\tif (i,j) in self.__data[h]:\n",
    "\t\t\t\tv_test = self.__data[h][(i,j)]\n",
    "\t\t\t\tif np.linalg.norm(v_test) < 1e-16:\n",
    "\t\t\t\t\tself.__data[h][(i,j)] = np.copy(waveImage.get_data()[h][(i,j)])\n",
    "\t\t\telse: \n",
    "\t\t\t\tself.__data[h][(i,j)] = np.copy(waveImage.get_data()[h][(i,j)])\n",
    "\t\n",
    "\tdef copy(self):\n",
    "\t\tself_shape = self.__shape \n",
    "\t\tself_copy = WaveImage(shape = self_shape)\n",
    "\t\tfor h in range(self.__h_max) :\n",
    "\t\t\tfor u in self.__data[h]:\n",
    "\t\t\t\tself_copy.set_data(h, u, self.__data[h][u])\n",
    "\t\treturn self_copy\t\n",
    "\t\t\n",
    "\tdef __str__(self):\n",
    "\t\th_max = len(self.__data)\n",
    "\t\ts = 'h_max :' + str(self.__h_max) + '\\n'\n",
    "\t\tfor h in range(self.__h_max):\n",
    "\t\t\ts += '***' + str(h) + '***\\n'\n",
    "\t\t\ts += str(self.__data[h]) + '\\n'\n",
    "\t\treturn s\n"
   ]
  },
  {
   "cell_type": "code",
   "execution_count": 68,
   "metadata": {},
   "outputs": [],
   "source": [
    "\n",
    "w1 = WaveImage(shape = (128, 128))\n",
    "w2 = WaveImage(image = mnist_reshape_128(mnist.train.images[1], i_offset = -1, j_offset = -1))\n",
    "w1.add_coeffs(w2, u = (63, 63), h_ref = w2.get_h_max())\n",
    "w1.add_coeffs(w2, u = (63, 65), h_ref = w2.get_h_max())\n",
    "w1.add_coeffs(w2, u = (65, 63), h_ref = w2.get_h_max())\n",
    "w1.add_coeffs(w2, u = (65, 65), h_ref = w2.get_h_max())"
   ]
  },
  {
   "cell_type": "code",
   "execution_count": 69,
   "metadata": {},
   "outputs": [
    {
     "data": {
      "image/png": "[encoded data removed]",
      "text/plain": [
       "<matplotlib.figure.Figure at 0x7fdb0f871f90>"
      ]
     },
     "metadata": {},
     "output_type": "display_data"
    }
   ],
   "source": [
    "plt.figure(figsize = (20,20))\n",
    "plt.subplot(1,2,1)\n",
    "plt.imshow(w2.get_image(), cmap = 'gray_r', interpolation = 'nearest')\n",
    "plt.plot([-0.5, 127.5],[63.5, 63.5],'r--')\n",
    "plt.plot([63.5, 63.5],[-0.5, 127.5],'r--')\n",
    "plt.xlim([-0.5, 127.5])\n",
    "plt.ylim([-0.5, 127.5])\n",
    "plt.gca().invert_yaxis()\n",
    "plt.subplot(1,2,2)\n",
    "plt.imshow(w1.get_image(), cmap = 'gray_r', interpolation = 'nearest')\n",
    "plt.plot([-0.5, 127.5],[63.5, 63.5],'r--')\n",
    "plt.plot([63.5, 63.5],[-0.5, 127.5],'r--')\n",
    "plt.plot(63 - .5, 63 - .5, 'r+', markersize = 12)\n",
    "plt.plot(63 - .5, 65 - .5, 'r+', markersize = 12)\n",
    "plt.plot(65 - .5, 63 - .5, 'r+', markersize = 12)\n",
    "plt.plot(65 - .5, 65 - .5, 'r+', markersize = 12)\n",
    "plt.xlim([-0.5, 127.5])\n",
    "plt.ylim([-0.5, 127.5])\n",
    "plt.gca().invert_yaxis()"
   ]
  },
  {
   "cell_type": "markdown",
   "metadata": {},
   "source": [
    "Lecture des coefficients"
   ]
  },
  {
   "cell_type": "code",
   "execution_count": 47,
   "metadata": {},
   "outputs": [
    {
     "data": {
      "text/plain": [
       "8"
      ]
     },
     "execution_count": 47,
     "metadata": {},
     "output_type": "execute_result"
    }
   ],
   "source": []
  },
  {
   "cell_type": "code",
   "execution_count": 83,
   "metadata": {},
   "outputs": [],
   "source": [
    "def generate_tensor_data(x, coord_i, coord_j):\n",
    "    # coord des blocs de 4 pixels sur image 128 x 128\n",
    "    # coord in [0:65[  : 32 correspond au centre exact \n",
    "    # (offset:-64:2:64)\n",
    "    i_offset = -2 * (coord_i - 32)\n",
    "    j_offset = -2 * (coord_j - 32)\n",
    "    w1 = WaveImage(shape = (128, 128))\n",
    "    w2 = WaveImage(image = mnist_reshape_128(x, i_offset = i_offset, j_offset = j_offset))\n",
    "    w1.add_coeffs(w2, u = (63, 63), h_ref = w2.get_h_max())\n",
    "    w1.add_coeffs(w2, u = (63, 65), h_ref = w2.get_h_max())\n",
    "    w1.add_coeffs(w2, u = (65, 63), h_ref = w2.get_h_max())\n",
    "    w1.add_coeffs(w2, u = (65, 65), h_ref = w2.get_h_max())\n",
    "    h_max = w1.get_h_max()\n",
    "    data = w1.get_data()\n",
    "    tensor_data = {}\n",
    "    for k in data :\n",
    "        if k == 0:\n",
    "            tensor_data[0] = data[k][(0, 0)]\n",
    "        elif k == 1:\n",
    "            tensor_data[1] = np.array(data[k][(0, 0)])    \n",
    "        else:\n",
    "            tensor_data[k] = np.zeros((2, 2, 3))\n",
    "            for u in data[k]:           \n",
    "                u_offset = 64 / (2**(h_max - k)) - 1\n",
    "                tensor_data[k][u[0] - u_offset, u[1] - u_offset, :] = np.array(data[k][u])\n",
    "    return w1, tensor_data"
   ]
  },
  {
   "cell_type": "code",
   "execution_count": 113,
   "metadata": {},
   "outputs": [],
   "source": [
    "def generate_proximal_data(coord_i, coord_j):\n",
    "    # coord des blocs de 4 pixels sur image 128 x 128\n",
    "    # coord in [0:65[ : 32 correspond au centre exact \n",
    "    # (offset:-64:2:64)\n",
    "    \n",
    "    assert 0 <= coord_i < 65\n",
    "    assert 0 <= coord_j < 65\n",
    "    \n",
    "    \n",
    "    coord_i_set = 2 * coord_i - 64\n",
    "    coord_j_set = 2 * coord_j - 64\n",
    "    \n",
    "    if coord_i_set < 0:\n",
    "        log_offset_i = 6 - int(ceil(log2(-coord_i_set)))\n",
    "    elif coord_i_set == 0:\n",
    "        log_offset_i = 6 \n",
    "    else:\n",
    "        log_offset_i = 6 + int(ceil(log2(coord_i_set)))\n",
    "        \n",
    "    if coord_j_set < 0:\n",
    "        log_offset_j = 6 - int(ceil(log2(-coord_j_set)))\n",
    "    elif coord_j_set == 0:\n",
    "        log_offset_j = 6 \n",
    "    else:\n",
    "        log_offset_j = 6 + int(ceil(log2(coord_j_set)))    \n",
    "    \n",
    "    output_matrix = np.zeros((13, 13))\n",
    "    output_matrix[log_offset_i, log_offset_j] = 1\n",
    "    return output_matrix"
   ]
  },
  {
   "cell_type": "code",
   "execution_count": 119,
   "metadata": {},
   "outputs": [],
   "source": [
    "def generate_distal_data(coord_i, coord_j, z):\n",
    "    # coord des blocs de 4 pixels sur image 32 x 32\n",
    "    # coord in [0:17[ : 8 correspond au centre exact \n",
    "    # (offset:-32:2:32)\n",
    "    assert 0 <= coord_i < 17\n",
    "    assert 0 <= coord_j < 17    \n",
    "    output_matrix = np.zeros((17, 17, 10))\n",
    "    output_matrix[coord_i, coord_j, z] = 1\n",
    "    return output_matrix"
   ]
  },
  {
   "cell_type": "code",
   "execution_count": 104,
   "metadata": {
    "scrolled": true
   },
   "outputs": [
    {
     "name": "stdout",
     "output_type": "stream",
     "text": [
      "{0: 0.9458027552755095, 1: array([-0.94580276, -0.94580276,  0.94580276]), 2: array([[[ 0.        ,  0.        ,  0.        ],\n",
      "        [ 0.        ,  0.        ,  0.        ]],\n",
      "\n",
      "       [[ 0.        ,  0.        ,  0.        ],\n",
      "        [-0.22591913, -0.36844365,  0.56280641]]]), 3: array([[[ 0.        ,  0.        ,  0.        ],\n",
      "        [ 0.        ,  0.        ,  0.        ]],\n",
      "\n",
      "       [[ 0.        ,  0.        ,  0.        ],\n",
      "        [-0.93002457, -0.93002457,  0.93002457]]]), 4: array([[[ 0.,  0.,  0.],\n",
      "        [ 0.,  0.,  0.]],\n",
      "\n",
      "       [[ 0.,  0.,  0.],\n",
      "        [ 0.,  0.,  0.]]]), 5: array([[[ 0.,  0.,  0.],\n",
      "        [ 0.,  0.,  0.]],\n",
      "\n",
      "       [[ 0.,  0.,  0.],\n",
      "        [ 0.,  0.,  0.]]]), 6: array([[[ 0.,  0.,  0.],\n",
      "        [ 0.,  0.,  0.]],\n",
      "\n",
      "       [[ 0.,  0.,  0.],\n",
      "        [ 0.,  0.,  0.]]]), 7: array([[[ 0.,  0.,  0.],\n",
      "        [ 0.,  0.,  0.]],\n",
      "\n",
      "       [[ 0.,  0.,  0.],\n",
      "        [ 0.,  0.,  0.]]])}\n"
     ]
    },
    {
     "data": {
      "image/png": "[encoded data removed]",
      "text/plain": [
       "<matplotlib.figure.Figure at 0x7fdb0f7f6c50>"
      ]
     },
     "metadata": {},
     "output_type": "display_data"
    }
   ],
   "source": [
    "w, tensor_data = generate_tensor_data(mnist.train.images[0], 48, 48)\n",
    "plt.imshow(w.get_image(), cmap = 'gray_r', interpolation = 'nearest')\n",
    "print tensor_data"
   ]
  },
  {
   "cell_type": "code",
   "execution_count": 118,
   "metadata": {},
   "outputs": [
    {
     "ename": "AssertionError",
     "evalue": "",
     "output_type": "error",
     "traceback": [
      "\u001b[0;31m---------------------------------------------------------------------------\u001b[0m",
      "\u001b[0;31mAssertionError\u001b[0m                            Traceback (most recent call last)",
      "\u001b[0;32m<ipython-input-118-0bc8dd80b79f>\u001b[0m in \u001b[0;36m<module>\u001b[0;34m()\u001b[0m\n\u001b[0;32m----> 1\u001b[0;31m \u001b[0moutput_data\u001b[0m \u001b[0;34m=\u001b[0m \u001b[0mgenerate_proximal_data\u001b[0m\u001b[0;34m(\u001b[0m\u001b[0;34m-\u001b[0m\u001b[0;36m6\u001b[0m\u001b[0;34m,\u001b[0m \u001b[0;36m60\u001b[0m\u001b[0;34m)\u001b[0m\u001b[0;34m\u001b[0m\u001b[0m\n\u001b[0m\u001b[1;32m      2\u001b[0m \u001b[0mimshow\u001b[0m\u001b[0;34m(\u001b[0m\u001b[0moutput_data\u001b[0m\u001b[0;34m,\u001b[0m \u001b[0minterpolation\u001b[0m \u001b[0;34m=\u001b[0m \u001b[0;34m'nearest'\u001b[0m\u001b[0;34m,\u001b[0m \u001b[0mcmap\u001b[0m \u001b[0;34m=\u001b[0m \u001b[0;34m'gray_r'\u001b[0m\u001b[0;34m)\u001b[0m\u001b[0;34m\u001b[0m\u001b[0m\n",
      "\u001b[0;32m<ipython-input-113-3dd73ce2631f>\u001b[0m in \u001b[0;36mgenerate_proximal_data\u001b[0;34m(coord_i, coord_j)\u001b[0m\n\u001b[1;32m      4\u001b[0m     \u001b[0;31m# (offset:-64:2:64)\u001b[0m\u001b[0;34m\u001b[0m\u001b[0;34m\u001b[0m\u001b[0m\n\u001b[1;32m      5\u001b[0m \u001b[0;34m\u001b[0m\u001b[0m\n\u001b[0;32m----> 6\u001b[0;31m     \u001b[0;32massert\u001b[0m \u001b[0;36m0\u001b[0m \u001b[0;34m<=\u001b[0m \u001b[0mcoord_i\u001b[0m \u001b[0;34m<\u001b[0m \u001b[0;36m65\u001b[0m\u001b[0;34m\u001b[0m\u001b[0m\n\u001b[0m\u001b[1;32m      7\u001b[0m     \u001b[0;32massert\u001b[0m \u001b[0;36m0\u001b[0m \u001b[0;34m<=\u001b[0m \u001b[0mcoord_j\u001b[0m \u001b[0;34m<\u001b[0m \u001b[0;36m65\u001b[0m\u001b[0;34m\u001b[0m\u001b[0m\n\u001b[1;32m      8\u001b[0m \u001b[0;34m\u001b[0m\u001b[0m\n",
      "\u001b[0;31mAssertionError\u001b[0m: "
     ]
    }
   ],
   "source": [
    "output_data = generate_proximal_data(-6, 60)\n",
    "imshow(output_data, interpolation = 'nearest', cmap = 'gray_r')"
   ]
  },
  {
   "cell_type": "code",
   "execution_count": 102,
   "metadata": {},
   "outputs": [
    {
     "data": {
      "text/plain": [
       "6.0"
      ]
     },
     "execution_count": 102,
     "metadata": {},
     "output_type": "execute_result"
    }
   ],
   "source": [
    "ceil(log2(63))"
   ]
  },
  {
   "cell_type": "code",
   "execution_count": null,
   "metadata": {
    "collapsed": true
   },
   "outputs": [],
   "source": []
  }
 ],
 "metadata": {
  "kernelspec": {
   "display_name": "Python 2",
   "language": "python",
   "name": "python2"
  },
  "language_info": {
   "codemirror_mode": {
    "name": "ipython",
    "version": 2
   },
   "file_extension": ".py",
   "mimetype": "text/x-python",
   "name": "python",
   "nbconvert_exporter": "python",
   "pygments_lexer": "ipython2",
   "version": "2.7.13"
  }
 },
 "nbformat": 4,
 "nbformat_minor": 2
}
